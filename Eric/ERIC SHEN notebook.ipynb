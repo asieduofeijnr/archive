{
 "cells": [
  {
   "cell_type": "code",
   "execution_count": 269,
   "id": "13c8c5f8",
   "metadata": {},
   "outputs": [],
   "source": [
    "import pandas as pd\n",
    "import numpy as np\n",
    "import matplotlib as mpl\n",
    "import matplotlib.pyplot as plt\n",
    "import seaborn as sns\n",
    "import matplotlib.image as mpimg\n",
    "from matplotlib.patches import FancyBboxPatch"
   ]
  },
  {
   "cell_type": "code",
   "execution_count": 2,
   "id": "f912a7c8",
   "metadata": {},
   "outputs": [],
   "source": [
    "df_nba = pd.read_excel(\"NBA_Stats_71_Years_Updated.xlsx\")"
   ]
  },
  {
   "cell_type": "code",
   "execution_count": 3,
   "id": "d0d9baa6",
   "metadata": {},
   "outputs": [
    {
     "data": {
      "text/html": [
       "<div>\n",
       "<style scoped>\n",
       "    .dataframe tbody tr th:only-of-type {\n",
       "        vertical-align: middle;\n",
       "    }\n",
       "\n",
       "    .dataframe tbody tr th {\n",
       "        vertical-align: top;\n",
       "    }\n",
       "\n",
       "    .dataframe thead th {\n",
       "        text-align: right;\n",
       "    }\n",
       "</style>\n",
       "<table border=\"1\" class=\"dataframe\">\n",
       "  <thead>\n",
       "    <tr style=\"text-align: right;\">\n",
       "      <th></th>\n",
       "      <th>Rank</th>\n",
       "      <th>Season Start Year</th>\n",
       "      <th>Player ID</th>\n",
       "      <th>Team ID</th>\n",
       "      <th>Games Played</th>\n",
       "      <th>Minutes Played</th>\n",
       "      <th>FG Made</th>\n",
       "      <th>FG Attempts</th>\n",
       "      <th>FG %</th>\n",
       "      <th>3-Pt FG Made</th>\n",
       "      <th>...</th>\n",
       "      <th>Rebounds</th>\n",
       "      <th>Assists</th>\n",
       "      <th>Steals</th>\n",
       "      <th>Blocks</th>\n",
       "      <th>Turnovers</th>\n",
       "      <th>Personal Fouls</th>\n",
       "      <th>Points Scored</th>\n",
       "      <th>Efficency</th>\n",
       "      <th>AST/TOV</th>\n",
       "      <th>STL/TOV</th>\n",
       "    </tr>\n",
       "  </thead>\n",
       "  <tbody>\n",
       "    <tr>\n",
       "      <th>count</th>\n",
       "      <td>33330.000000</td>\n",
       "      <td>33330.000000</td>\n",
       "      <td>3.333000e+04</td>\n",
       "      <td>3.333000e+04</td>\n",
       "      <td>33330.000000</td>\n",
       "      <td>33330.000000</td>\n",
       "      <td>33330.000000</td>\n",
       "      <td>33330.000000</td>\n",
       "      <td>33330.000000</td>\n",
       "      <td>27034.000000</td>\n",
       "      <td>...</td>\n",
       "      <td>33330.000000</td>\n",
       "      <td>33330.000000</td>\n",
       "      <td>29101.000000</td>\n",
       "      <td>29101.000000</td>\n",
       "      <td>27764.000000</td>\n",
       "      <td>33330.000000</td>\n",
       "      <td>33330.000000</td>\n",
       "      <td>33330.000000</td>\n",
       "      <td>27764.000000</td>\n",
       "      <td>27764.000000</td>\n",
       "    </tr>\n",
       "    <tr>\n",
       "      <th>mean</th>\n",
       "      <td>161.710561</td>\n",
       "      <td>1995.719742</td>\n",
       "      <td>2.082683e+05</td>\n",
       "      <td>1.610613e+09</td>\n",
       "      <td>40.086019</td>\n",
       "      <td>960.490909</td>\n",
       "      <td>157.231353</td>\n",
       "      <td>343.944734</td>\n",
       "      <td>0.430644</td>\n",
       "      <td>21.960531</td>\n",
       "      <td>...</td>\n",
       "      <td>178.428083</td>\n",
       "      <td>92.251995</td>\n",
       "      <td>31.602522</td>\n",
       "      <td>19.704306</td>\n",
       "      <td>57.973527</td>\n",
       "      <td>90.646775</td>\n",
       "      <td>412.974707</td>\n",
       "      <td>466.923972</td>\n",
       "      <td>1.412649</td>\n",
       "      <td>0.573435</td>\n",
       "    </tr>\n",
       "    <tr>\n",
       "      <th>std</th>\n",
       "      <td>126.506757</td>\n",
       "      <td>18.247299</td>\n",
       "      <td>4.495757e+05</td>\n",
       "      <td>1.400712e+02</td>\n",
       "      <td>30.292096</td>\n",
       "      <td>938.015601</td>\n",
       "      <td>182.046117</td>\n",
       "      <td>386.508251</td>\n",
       "      <td>0.122855</td>\n",
       "      <td>40.067751</td>\n",
       "      <td>...</td>\n",
       "      <td>215.522695</td>\n",
       "      <td>128.234733</td>\n",
       "      <td>36.783506</td>\n",
       "      <td>33.218220</td>\n",
       "      <td>65.341103</td>\n",
       "      <td>84.913130</td>\n",
       "      <td>479.009729</td>\n",
       "      <td>527.363207</td>\n",
       "      <td>1.094385</td>\n",
       "      <td>0.480906</td>\n",
       "    </tr>\n",
       "    <tr>\n",
       "      <th>min</th>\n",
       "      <td>1.000000</td>\n",
       "      <td>1951.000000</td>\n",
       "      <td>2.000000e+00</td>\n",
       "      <td>1.610610e+09</td>\n",
       "      <td>1.000000</td>\n",
       "      <td>0.000000</td>\n",
       "      <td>0.000000</td>\n",
       "      <td>0.000000</td>\n",
       "      <td>0.000000</td>\n",
       "      <td>0.000000</td>\n",
       "      <td>...</td>\n",
       "      <td>0.000000</td>\n",
       "      <td>0.000000</td>\n",
       "      <td>0.000000</td>\n",
       "      <td>0.000000</td>\n",
       "      <td>0.000000</td>\n",
       "      <td>0.000000</td>\n",
       "      <td>0.000000</td>\n",
       "      <td>-11.000000</td>\n",
       "      <td>0.000000</td>\n",
       "      <td>0.000000</td>\n",
       "    </tr>\n",
       "    <tr>\n",
       "      <th>25%</th>\n",
       "      <td>59.000000</td>\n",
       "      <td>1983.000000</td>\n",
       "      <td>1.559000e+03</td>\n",
       "      <td>1.610613e+09</td>\n",
       "      <td>9.000000</td>\n",
       "      <td>141.000000</td>\n",
       "      <td>18.000000</td>\n",
       "      <td>43.000000</td>\n",
       "      <td>0.391000</td>\n",
       "      <td>0.000000</td>\n",
       "      <td>...</td>\n",
       "      <td>22.000000</td>\n",
       "      <td>8.000000</td>\n",
       "      <td>4.000000</td>\n",
       "      <td>1.000000</td>\n",
       "      <td>7.000000</td>\n",
       "      <td>15.000000</td>\n",
       "      <td>48.000000</td>\n",
       "      <td>54.000000</td>\n",
       "      <td>0.690000</td>\n",
       "      <td>0.310000</td>\n",
       "    </tr>\n",
       "    <tr>\n",
       "      <th>50%</th>\n",
       "      <td>130.000000</td>\n",
       "      <td>1998.000000</td>\n",
       "      <td>7.686150e+04</td>\n",
       "      <td>1.610613e+09</td>\n",
       "      <td>39.000000</td>\n",
       "      <td>590.500000</td>\n",
       "      <td>79.000000</td>\n",
       "      <td>181.000000</td>\n",
       "      <td>0.440000</td>\n",
       "      <td>3.000000</td>\n",
       "      <td>...</td>\n",
       "      <td>95.000000</td>\n",
       "      <td>39.000000</td>\n",
       "      <td>17.000000</td>\n",
       "      <td>7.000000</td>\n",
       "      <td>32.000000</td>\n",
       "      <td>60.000000</td>\n",
       "      <td>209.000000</td>\n",
       "      <td>244.000000</td>\n",
       "      <td>1.220000</td>\n",
       "      <td>0.500000</td>\n",
       "    </tr>\n",
       "    <tr>\n",
       "      <th>75%</th>\n",
       "      <td>240.000000</td>\n",
       "      <td>2011.000000</td>\n",
       "      <td>2.007580e+05</td>\n",
       "      <td>1.610613e+09</td>\n",
       "      <td>72.000000</td>\n",
       "      <td>1687.000000</td>\n",
       "      <td>247.000000</td>\n",
       "      <td>546.000000</td>\n",
       "      <td>0.488000</td>\n",
       "      <td>24.000000</td>\n",
       "      <td>...</td>\n",
       "      <td>261.000000</td>\n",
       "      <td>126.000000</td>\n",
       "      <td>49.000000</td>\n",
       "      <td>23.000000</td>\n",
       "      <td>91.000000</td>\n",
       "      <td>155.000000</td>\n",
       "      <td>645.000000</td>\n",
       "      <td>747.000000</td>\n",
       "      <td>1.950000</td>\n",
       "      <td>0.730000</td>\n",
       "    </tr>\n",
       "    <tr>\n",
       "      <th>max</th>\n",
       "      <td>582.000000</td>\n",
       "      <td>2022.000000</td>\n",
       "      <td>1.641645e+06</td>\n",
       "      <td>1.610613e+09</td>\n",
       "      <td>85.000000</td>\n",
       "      <td>3882.000000</td>\n",
       "      <td>1597.000000</td>\n",
       "      <td>3159.000000</td>\n",
       "      <td>1.000000</td>\n",
       "      <td>402.000000</td>\n",
       "      <td>...</td>\n",
       "      <td>2149.000000</td>\n",
       "      <td>1164.000000</td>\n",
       "      <td>301.000000</td>\n",
       "      <td>456.000000</td>\n",
       "      <td>464.000000</td>\n",
       "      <td>386.000000</td>\n",
       "      <td>4029.000000</td>\n",
       "      <td>4183.000000</td>\n",
       "      <td>21.000000</td>\n",
       "      <td>8.000000</td>\n",
       "    </tr>\n",
       "  </tbody>\n",
       "</table>\n",
       "<p>8 rows × 27 columns</p>\n",
       "</div>"
      ],
      "text/plain": [
       "               Rank  Season Start Year     Player ID       Team ID  \\\n",
       "count  33330.000000       33330.000000  3.333000e+04  3.333000e+04   \n",
       "mean     161.710561        1995.719742  2.082683e+05  1.610613e+09   \n",
       "std      126.506757          18.247299  4.495757e+05  1.400712e+02   \n",
       "min        1.000000        1951.000000  2.000000e+00  1.610610e+09   \n",
       "25%       59.000000        1983.000000  1.559000e+03  1.610613e+09   \n",
       "50%      130.000000        1998.000000  7.686150e+04  1.610613e+09   \n",
       "75%      240.000000        2011.000000  2.007580e+05  1.610613e+09   \n",
       "max      582.000000        2022.000000  1.641645e+06  1.610613e+09   \n",
       "\n",
       "       Games Played  Minutes Played       FG Made   FG Attempts          FG %  \\\n",
       "count  33330.000000    33330.000000  33330.000000  33330.000000  33330.000000   \n",
       "mean      40.086019      960.490909    157.231353    343.944734      0.430644   \n",
       "std       30.292096      938.015601    182.046117    386.508251      0.122855   \n",
       "min        1.000000        0.000000      0.000000      0.000000      0.000000   \n",
       "25%        9.000000      141.000000     18.000000     43.000000      0.391000   \n",
       "50%       39.000000      590.500000     79.000000    181.000000      0.440000   \n",
       "75%       72.000000     1687.000000    247.000000    546.000000      0.488000   \n",
       "max       85.000000     3882.000000   1597.000000   3159.000000      1.000000   \n",
       "\n",
       "       3-Pt FG Made  ...      Rebounds       Assists        Steals  \\\n",
       "count  27034.000000  ...  33330.000000  33330.000000  29101.000000   \n",
       "mean      21.960531  ...    178.428083     92.251995     31.602522   \n",
       "std       40.067751  ...    215.522695    128.234733     36.783506   \n",
       "min        0.000000  ...      0.000000      0.000000      0.000000   \n",
       "25%        0.000000  ...     22.000000      8.000000      4.000000   \n",
       "50%        3.000000  ...     95.000000     39.000000     17.000000   \n",
       "75%       24.000000  ...    261.000000    126.000000     49.000000   \n",
       "max      402.000000  ...   2149.000000   1164.000000    301.000000   \n",
       "\n",
       "             Blocks     Turnovers  Personal Fouls  Points Scored  \\\n",
       "count  29101.000000  27764.000000    33330.000000   33330.000000   \n",
       "mean      19.704306     57.973527       90.646775     412.974707   \n",
       "std       33.218220     65.341103       84.913130     479.009729   \n",
       "min        0.000000      0.000000        0.000000       0.000000   \n",
       "25%        1.000000      7.000000       15.000000      48.000000   \n",
       "50%        7.000000     32.000000       60.000000     209.000000   \n",
       "75%       23.000000     91.000000      155.000000     645.000000   \n",
       "max      456.000000    464.000000      386.000000    4029.000000   \n",
       "\n",
       "          Efficency       AST/TOV       STL/TOV  \n",
       "count  33330.000000  27764.000000  27764.000000  \n",
       "mean     466.923972      1.412649      0.573435  \n",
       "std      527.363207      1.094385      0.480906  \n",
       "min      -11.000000      0.000000      0.000000  \n",
       "25%       54.000000      0.690000      0.310000  \n",
       "50%      244.000000      1.220000      0.500000  \n",
       "75%      747.000000      1.950000      0.730000  \n",
       "max     4183.000000     21.000000      8.000000  \n",
       "\n",
       "[8 rows x 27 columns]"
      ]
     },
     "execution_count": 3,
     "metadata": {},
     "output_type": "execute_result"
    }
   ],
   "source": [
    "df_nba.describe()"
   ]
  },
  {
   "cell_type": "code",
   "execution_count": 330,
   "id": "f1ce438e",
   "metadata": {},
   "outputs": [
    {
     "data": {
      "text/plain": [
       "count    27034.000000\n",
       "mean         0.212694\n",
       "std          0.196375\n",
       "min          0.000000\n",
       "25%          0.000000\n",
       "50%          0.250000\n",
       "75%          0.357000\n",
       "max          1.000000\n",
       "Name: 3-Pt FG %, dtype: float64"
      ]
     },
     "execution_count": 330,
     "metadata": {},
     "output_type": "execute_result"
    }
   ],
   "source": [
    "df_nba[\"3-Pt FG %\"].describe()"
   ]
  },
  {
   "cell_type": "code",
   "execution_count": 344,
   "id": "5aa87643",
   "metadata": {},
   "outputs": [
    {
     "data": {
      "text/plain": [
       "count    33330.000000\n",
       "mean         0.430644\n",
       "std          0.122855\n",
       "min          0.000000\n",
       "25%          0.391000\n",
       "50%          0.440000\n",
       "75%          0.488000\n",
       "max          1.000000\n",
       "Name: FG %, dtype: float64"
      ]
     },
     "execution_count": 344,
     "metadata": {},
     "output_type": "execute_result"
    }
   ],
   "source": [
    "df_nba[\"FG %\"].describe()"
   ]
  },
  {
   "cell_type": "code",
   "execution_count": 345,
   "id": "e09d8a15",
   "metadata": {},
   "outputs": [
    {
     "data": {
      "text/plain": [
       "count    33330.000000\n",
       "mean       412.974707\n",
       "std        479.009729\n",
       "min          0.000000\n",
       "25%         48.000000\n",
       "50%        209.000000\n",
       "75%        645.000000\n",
       "max       4029.000000\n",
       "Name: Points Scored, dtype: float64"
      ]
     },
     "execution_count": 345,
     "metadata": {},
     "output_type": "execute_result"
    }
   ],
   "source": [
    "df_nba[\"Points Scored\"].describe()"
   ]
  },
  {
   "cell_type": "code",
   "execution_count": 347,
   "id": "1984458f",
   "metadata": {},
   "outputs": [
    {
     "name": "stdout",
     "output_type": "stream",
     "text": [
      "1134.0\n"
     ]
    }
   ],
   "source": [
    "points_90 = df_nba['Points Scored'].quantile(0.9)\n",
    "print(points_90)"
   ]
  },
  {
   "cell_type": "code",
   "execution_count": 332,
   "id": "edf50293",
   "metadata": {},
   "outputs": [
    {
     "name": "stdout",
     "output_type": "stream",
     "text": [
      "0.7552181373471663\n"
     ]
    }
   ],
   "source": [
    "correlation_points_assists = df_nba['Points Scored'].corr(df_nba['Assists'])\n",
    "print(correlation_points_assists)"
   ]
  },
  {
   "cell_type": "code",
   "execution_count": 335,
   "id": "8b415939",
   "metadata": {},
   "outputs": [
    {
     "name": "stdout",
     "output_type": "stream",
     "text": [
      "0.7758575175161526\n"
     ]
    }
   ],
   "source": [
    "correlation_points_reb = df_nba['Points Scored'].corr(df_nba['Rebounds'])\n",
    "print(correlation_points_reb)"
   ]
  },
  {
   "cell_type": "code",
   "execution_count": 337,
   "id": "d4899f8c",
   "metadata": {},
   "outputs": [
    {
     "name": "stdout",
     "output_type": "stream",
     "text": [
      "0.8230045835357012\n"
     ]
    }
   ],
   "source": [
    "correlation_points_steal = df_nba['Points Scored'].corr(df_nba['Steals'])\n",
    "print(correlation_points_steal)"
   ]
  },
  {
   "cell_type": "code",
   "execution_count": 339,
   "id": "775fe50f",
   "metadata": {},
   "outputs": [
    {
     "name": "stdout",
     "output_type": "stream",
     "text": [
      "0.922494463348598\n"
     ]
    }
   ],
   "source": [
    "correlation_points_turn = df_nba['Points Scored'].corr(df_nba['Turnovers'])\n",
    "print(correlation_points_turn)"
   ]
  },
  {
   "cell_type": "code",
   "execution_count": 340,
   "id": "03bbe6c9",
   "metadata": {},
   "outputs": [
    {
     "name": "stdout",
     "output_type": "stream",
     "text": [
      "0.9350264835760946\n"
     ]
    }
   ],
   "source": [
    "correlation_points_mins = df_nba['Points Scored'].corr(df_nba['Minutes Played'])\n",
    "print(correlation_points_mins)"
   ]
  },
  {
   "cell_type": "code",
   "execution_count": 341,
   "id": "cf400726",
   "metadata": {},
   "outputs": [
    {
     "name": "stdout",
     "output_type": "stream",
     "text": [
      "0.809409213230347\n"
     ]
    }
   ],
   "source": [
    "correlation_points_foul = df_nba['Points Scored'].corr(df_nba['Personal Fouls'])\n",
    "print(correlation_points_foul)"
   ]
  },
  {
   "cell_type": "code",
   "execution_count": 342,
   "id": "f9a75d4b",
   "metadata": {},
   "outputs": [
    {
     "name": "stdout",
     "output_type": "stream",
     "text": [
      "0.9896724390038178\n"
     ]
    }
   ],
   "source": [
    "correlation_points_FG_att = df_nba['Points Scored'].corr(df_nba['FG Attempts'])\n",
    "print(correlation_points_FG_att)"
   ]
  },
  {
   "cell_type": "code",
   "execution_count": 343,
   "id": "5ccc4d01",
   "metadata": {},
   "outputs": [
    {
     "name": "stdout",
     "output_type": "stream",
     "text": [
      "0.5816237487200665\n"
     ]
    }
   ],
   "source": [
    "correlation_points_3FG_att = df_nba['Points Scored'].corr(df_nba['3-Pt FG Attempts'])\n",
    "print(correlation_points_3FG_att)"
   ]
  },
  {
   "cell_type": "code",
   "execution_count": 338,
   "id": "ed74bb5e",
   "metadata": {},
   "outputs": [
    {
     "data": {
      "text/plain": [
       "Index(['Rank', 'Year', 'Season Start Year', 'Season Type', 'Player ID',\n",
       "       'Player', 'Team ID', 'Team', 'Games Played', 'Minutes Played',\n",
       "       'FG Made', 'FG Attempts', 'FG %', '3-Pt FG Made', '3-Pt FG Attempts',\n",
       "       '3-Pt FG %', 'FT Made', 'FT Attempts', 'FT %', 'Offensive Rebounds',\n",
       "       'Defensive Rebounds', 'Rebounds', 'Assists', 'Steals', 'Blocks',\n",
       "       'Turnovers', 'Personal Fouls', 'Points Scored', 'Efficiency', 'AST/TOV',\n",
       "       'STL/TOV'],\n",
       "      dtype='object')"
      ]
     },
     "execution_count": 338,
     "metadata": {},
     "output_type": "execute_result"
    }
   ],
   "source": [
    "df_nba.columns"
   ]
  },
  {
   "cell_type": "code",
   "execution_count": 327,
   "id": "b5c3e1be",
   "metadata": {},
   "outputs": [
    {
     "data": {
      "text/html": [
       "<div>\n",
       "<style scoped>\n",
       "    .dataframe tbody tr th:only-of-type {\n",
       "        vertical-align: middle;\n",
       "    }\n",
       "\n",
       "    .dataframe tbody tr th {\n",
       "        vertical-align: top;\n",
       "    }\n",
       "\n",
       "    .dataframe thead th {\n",
       "        text-align: right;\n",
       "    }\n",
       "</style>\n",
       "<table border=\"1\" class=\"dataframe\">\n",
       "  <thead>\n",
       "    <tr style=\"text-align: right;\">\n",
       "      <th></th>\n",
       "      <th>Player</th>\n",
       "      <th>TotalPoints</th>\n",
       "    </tr>\n",
       "  </thead>\n",
       "  <tbody>\n",
       "    <tr>\n",
       "      <th>0</th>\n",
       "      <td>LeBron James</td>\n",
       "      <td>46675</td>\n",
       "    </tr>\n",
       "    <tr>\n",
       "      <th>1</th>\n",
       "      <td>Kareem Abdul-Jabbar</td>\n",
       "      <td>44149</td>\n",
       "    </tr>\n",
       "    <tr>\n",
       "      <th>2</th>\n",
       "      <td>Karl Malone</td>\n",
       "      <td>41689</td>\n",
       "    </tr>\n",
       "    <tr>\n",
       "      <th>3</th>\n",
       "      <td>Kobe Bryant</td>\n",
       "      <td>39283</td>\n",
       "    </tr>\n",
       "    <tr>\n",
       "      <th>4</th>\n",
       "      <td>Michael Jordan</td>\n",
       "      <td>38279</td>\n",
       "    </tr>\n",
       "  </tbody>\n",
       "</table>\n",
       "</div>"
      ],
      "text/plain": [
       "                Player  TotalPoints\n",
       "0         LeBron James        46675\n",
       "1  Kareem Abdul-Jabbar        44149\n",
       "2          Karl Malone        41689\n",
       "3          Kobe Bryant        39283\n",
       "4       Michael Jordan        38279"
      ]
     },
     "execution_count": 327,
     "metadata": {},
     "output_type": "execute_result"
    }
   ],
   "source": [
    "points_summed = df_nba.groupby('Player')['Points Scored'].sum()\n",
    "\n",
    "top_players = points_summed.sort_values(ascending=False).head(5)\n",
    "\n",
    "df_top = pd.DataFrame({'Player': top_players.index, 'TotalPoints': top_players.values})\n",
    "\n",
    "df_top"
   ]
  },
  {
   "cell_type": "code",
   "execution_count": 329,
   "id": "002225cf",
   "metadata": {},
   "outputs": [
    {
     "data": {
      "text/plain": [
       "Rank                     0\n",
       "Year                     0\n",
       "Season Start Year        0\n",
       "Season Type              0\n",
       "Player ID                0\n",
       "Player                   0\n",
       "Team ID                  0\n",
       "Team                     0\n",
       "Games Played             0\n",
       "Minutes Played           0\n",
       "FG Made                  0\n",
       "FG Attempts              0\n",
       "FG %                     0\n",
       "3-Pt FG Made          6296\n",
       "3-Pt FG Attempts      6296\n",
       "3-Pt FG %             6296\n",
       "FT Made                  0\n",
       "FT Attempts              0\n",
       "FT %                     0\n",
       "Offensive Rebounds    4229\n",
       "Defensive Rebounds    4229\n",
       "Rebounds                 0\n",
       "Assists                  0\n",
       "Steals                4229\n",
       "Blocks                4229\n",
       "Turnovers             5566\n",
       "Personal Fouls           0\n",
       "Points Scored            0\n",
       "Efficiency               0\n",
       "AST/TOV               5566\n",
       "STL/TOV               5566\n",
       "dtype: int64"
      ]
     },
     "execution_count": 329,
     "metadata": {},
     "output_type": "execute_result"
    }
   ],
   "source": [
    "df_nba.isnull().sum()"
   ]
  },
  {
   "cell_type": "code",
   "execution_count": 4,
   "id": "629f0535",
   "metadata": {},
   "outputs": [
    {
     "data": {
      "text/plain": [
       "array(['Regular Season', 'Playoffs'], dtype=object)"
      ]
     },
     "execution_count": 4,
     "metadata": {},
     "output_type": "execute_result"
    }
   ],
   "source": [
    "df_nba[\"Season Type\"].unique()"
   ]
  },
  {
   "cell_type": "code",
   "execution_count": 5,
   "id": "be1db6ed",
   "metadata": {},
   "outputs": [],
   "source": [
    "df_nba.rename(columns={\"Efficency\":\"Efficiency\"},inplace=True)"
   ]
  },
  {
   "cell_type": "code",
   "execution_count": 6,
   "id": "bc6078e4",
   "metadata": {},
   "outputs": [],
   "source": [
    "df_copy = df_nba.copy()"
   ]
  },
  {
   "cell_type": "code",
   "execution_count": 7,
   "id": "6d34d149",
   "metadata": {},
   "outputs": [],
   "source": [
    "df_copy.drop(columns=[\"Player ID\",\"Team ID\",\"Team\"],inplace=True)"
   ]
  },
  {
   "cell_type": "code",
   "execution_count": 141,
   "id": "0d249b8c",
   "metadata": {},
   "outputs": [],
   "source": [
    "df_copy['FG % Rank'] = df_copy[\"FG %\"].rank(pct = True)\n",
    "#percentile rank of FG %\n",
    "\n",
    "df_copy['3-Pt FG % Rank'] = df_copy[\"3-Pt FG %\"].rank(pct = True)\n",
    "\n",
    "df_copy['Minutes Played Rank'] = df_copy[\"Minutes Played\"].rank(pct = True)\n",
    "\n",
    "df_copy['Rebounds Rank'] = df_copy[\"Rebounds\"].rank(pct = True)\n",
    "\n",
    "df_copy['Assists Rank'] = df_copy[\"Assists\"].rank(pct = True)\n",
    "\n",
    "df_copy['Blocks Rank'] = df_copy[\"Blocks\"].rank(pct = True)"
   ]
  },
  {
   "cell_type": "code",
   "execution_count": 17,
   "id": "4c9e46da",
   "metadata": {},
   "outputs": [],
   "source": [
    "df_rank = df_copy.copy()"
   ]
  },
  {
   "cell_type": "code",
   "execution_count": 18,
   "id": "13efc03a",
   "metadata": {},
   "outputs": [],
   "source": [
    "df_rank.drop(columns=[\"Games Played\",\"Minutes Played\",\"FG Made\",\"FG Attempts\",\"FG %\"],inplace=True)"
   ]
  },
  {
   "cell_type": "code",
   "execution_count": 19,
   "id": "3d93f54f",
   "metadata": {},
   "outputs": [],
   "source": [
    "df_rank.drop(columns=[\"3-Pt FG Made\",\"3-Pt FG Made\",\"FT Made\",\"FT Attempts\",\"Efficiency\",\"AST/TOV\",\"STL/TOV\"],inplace=True)"
   ]
  },
  {
   "cell_type": "code",
   "execution_count": 20,
   "id": "39f76483",
   "metadata": {},
   "outputs": [],
   "source": [
    "df_rank.drop(columns=[\"3-Pt FG Attempts\",\"FT %\",\"Offensive Rebounds\",\"Defensive Rebounds\",\"Steals\",\"Rebounds\",\"Turnovers\",\"Personal Fouls\"],inplace=True)"
   ]
  },
  {
   "cell_type": "code",
   "execution_count": 21,
   "id": "4e4a8201",
   "metadata": {},
   "outputs": [],
   "source": [
    "df_rank.drop(columns=[\"3-Pt FG %\",\"Assists\",\"Blocks\",\"Season Type\",\"Player\",\"Points Scored\",\"Year\",\"Rank\",\"Season Start Year\"],inplace=True)"
   ]
  },
  {
   "cell_type": "code",
   "execution_count": 22,
   "id": "a231755a",
   "metadata": {},
   "outputs": [
    {
     "data": {
      "text/html": [
       "<div>\n",
       "<style scoped>\n",
       "    .dataframe tbody tr th:only-of-type {\n",
       "        vertical-align: middle;\n",
       "    }\n",
       "\n",
       "    .dataframe tbody tr th {\n",
       "        vertical-align: top;\n",
       "    }\n",
       "\n",
       "    .dataframe thead th {\n",
       "        text-align: right;\n",
       "    }\n",
       "</style>\n",
       "<table border=\"1\" class=\"dataframe\">\n",
       "  <thead>\n",
       "    <tr style=\"text-align: right;\">\n",
       "      <th></th>\n",
       "      <th>FG % Rank</th>\n",
       "      <th>3-Pt FG % Rank</th>\n",
       "      <th>Minutes Played Rank</th>\n",
       "      <th>Rebounds Rank</th>\n",
       "      <th>Assists Rank</th>\n",
       "      <th>Blocks Rank</th>\n",
       "    </tr>\n",
       "  </thead>\n",
       "  <tbody>\n",
       "    <tr>\n",
       "      <th>0</th>\n",
       "      <td>0.545935</td>\n",
       "      <td>NaN</td>\n",
       "      <td>0.971887</td>\n",
       "      <td>0.972787</td>\n",
       "      <td>0.816982</td>\n",
       "      <td>NaN</td>\n",
       "    </tr>\n",
       "    <tr>\n",
       "      <th>1</th>\n",
       "      <td>0.230498</td>\n",
       "      <td>NaN</td>\n",
       "      <td>0.919712</td>\n",
       "      <td>0.985539</td>\n",
       "      <td>0.845110</td>\n",
       "      <td>NaN</td>\n",
       "    </tr>\n",
       "    <tr>\n",
       "      <th>2</th>\n",
       "      <td>0.184863</td>\n",
       "      <td>NaN</td>\n",
       "      <td>0.936784</td>\n",
       "      <td>0.876568</td>\n",
       "      <td>0.970852</td>\n",
       "      <td>NaN</td>\n",
       "    </tr>\n",
       "    <tr>\n",
       "      <th>3</th>\n",
       "      <td>0.452430</td>\n",
       "      <td>NaN</td>\n",
       "      <td>0.929043</td>\n",
       "      <td>0.922037</td>\n",
       "      <td>0.881803</td>\n",
       "      <td>NaN</td>\n",
       "    </tr>\n",
       "    <tr>\n",
       "      <th>4</th>\n",
       "      <td>0.224542</td>\n",
       "      <td>NaN</td>\n",
       "      <td>0.888869</td>\n",
       "      <td>0.657111</td>\n",
       "      <td>0.959676</td>\n",
       "      <td>NaN</td>\n",
       "    </tr>\n",
       "    <tr>\n",
       "      <th>...</th>\n",
       "      <td>...</td>\n",
       "      <td>...</td>\n",
       "      <td>...</td>\n",
       "      <td>...</td>\n",
       "      <td>...</td>\n",
       "      <td>...</td>\n",
       "    </tr>\n",
       "    <tr>\n",
       "      <th>33325</th>\n",
       "      <td>0.015227</td>\n",
       "      <td>0.186913</td>\n",
       "      <td>0.018257</td>\n",
       "      <td>0.011056</td>\n",
       "      <td>0.028638</td>\n",
       "      <td>0.082849</td>\n",
       "    </tr>\n",
       "    <tr>\n",
       "      <th>33326</th>\n",
       "      <td>0.015227</td>\n",
       "      <td>0.186913</td>\n",
       "      <td>0.001935</td>\n",
       "      <td>0.011056</td>\n",
       "      <td>0.028638</td>\n",
       "      <td>0.082849</td>\n",
       "    </tr>\n",
       "    <tr>\n",
       "      <th>33327</th>\n",
       "      <td>0.015227</td>\n",
       "      <td>0.186913</td>\n",
       "      <td>0.009661</td>\n",
       "      <td>0.032553</td>\n",
       "      <td>0.028638</td>\n",
       "      <td>0.082849</td>\n",
       "    </tr>\n",
       "    <tr>\n",
       "      <th>33328</th>\n",
       "      <td>0.015227</td>\n",
       "      <td>0.186913</td>\n",
       "      <td>0.038284</td>\n",
       "      <td>0.067852</td>\n",
       "      <td>0.077903</td>\n",
       "      <td>0.082849</td>\n",
       "    </tr>\n",
       "    <tr>\n",
       "      <th>33329</th>\n",
       "      <td>0.015227</td>\n",
       "      <td>0.186913</td>\n",
       "      <td>0.005641</td>\n",
       "      <td>0.011056</td>\n",
       "      <td>0.028638</td>\n",
       "      <td>0.082849</td>\n",
       "    </tr>\n",
       "  </tbody>\n",
       "</table>\n",
       "<p>33330 rows × 6 columns</p>\n",
       "</div>"
      ],
      "text/plain": [
       "       FG % Rank  3-Pt FG % Rank  Minutes Played Rank  Rebounds Rank  \\\n",
       "0       0.545935             NaN             0.971887       0.972787   \n",
       "1       0.230498             NaN             0.919712       0.985539   \n",
       "2       0.184863             NaN             0.936784       0.876568   \n",
       "3       0.452430             NaN             0.929043       0.922037   \n",
       "4       0.224542             NaN             0.888869       0.657111   \n",
       "...          ...             ...                  ...            ...   \n",
       "33325   0.015227        0.186913             0.018257       0.011056   \n",
       "33326   0.015227        0.186913             0.001935       0.011056   \n",
       "33327   0.015227        0.186913             0.009661       0.032553   \n",
       "33328   0.015227        0.186913             0.038284       0.067852   \n",
       "33329   0.015227        0.186913             0.005641       0.011056   \n",
       "\n",
       "       Assists Rank  Blocks Rank  \n",
       "0          0.816982          NaN  \n",
       "1          0.845110          NaN  \n",
       "2          0.970852          NaN  \n",
       "3          0.881803          NaN  \n",
       "4          0.959676          NaN  \n",
       "...             ...          ...  \n",
       "33325      0.028638     0.082849  \n",
       "33326      0.028638     0.082849  \n",
       "33327      0.028638     0.082849  \n",
       "33328      0.077903     0.082849  \n",
       "33329      0.028638     0.082849  \n",
       "\n",
       "[33330 rows x 6 columns]"
      ]
     },
     "execution_count": 22,
     "metadata": {},
     "output_type": "execute_result"
    }
   ],
   "source": [
    "df_rank"
   ]
  },
  {
   "cell_type": "code",
   "execution_count": 61,
   "id": "d0043994",
   "metadata": {},
   "outputs": [
    {
     "data": {
      "text/plain": [
       "Int64Index([15249, 15741, 16333, 16971, 17574, 18200, 18822, 19450, 20077,\n",
       "            20719, 21371, 22019, 22674, 23320, 23958, 24602, 25282, 26342,\n",
       "            26759, 27386],\n",
       "           dtype='int64')"
      ]
     },
     "execution_count": 61,
     "metadata": {},
     "output_type": "execute_result"
    }
   ],
   "source": [
    "df_nba.loc[(df_nba[\"Player\"] == 'Kobe Bryant') & (df_nba[\"Season Type\"] == \"Regular Season\")].index"
   ]
  },
  {
   "cell_type": "code",
   "execution_count": 62,
   "id": "e3944d58",
   "metadata": {},
   "outputs": [
    {
     "data": {
      "text/plain": [
       "Int64Index([15572, 16178, 16776, 17389, 18010, 18639, 19254, 19879, 21204,\n",
       "            21861, 22470, 23117, 23757, 24419, 25084],\n",
       "           dtype='int64')"
      ]
     },
     "execution_count": 62,
     "metadata": {},
     "output_type": "execute_result"
    }
   ],
   "source": [
    "df_nba.loc[(df_nba[\"Player\"] == 'Kobe Bryant') & (df_nba[\"Season Type\"] == \"Playoffs\")].index"
   ]
  },
  {
   "cell_type": "code",
   "execution_count": 63,
   "id": "4db1b494",
   "metadata": {},
   "outputs": [],
   "source": [
    "df_Kobe = df_rank.copy()\n",
    "df_Kobe_regular = df_Kobe.loc[[15249, 15741, 16333, 16971, 17574, 18200, 18822, 19450, 20077,\n",
    "            20719, 21371, 22019, 22674, 23320, 23958, 24602, 25282, 26342,\n",
    "            26759, 27386]]\n",
    "\n",
    "df_Kobe_playoffs = df_Kobe.loc[[15572, 16178, 16776, 17389, 18010, 18639, 19254, 19879, 21204,\n",
    "            21861, 22470, 23117, 23757, 24419, 25084]]"
   ]
  },
  {
   "cell_type": "code",
   "execution_count": 85,
   "id": "23b884a3",
   "metadata": {},
   "outputs": [
    {
     "data": {
      "text/plain": [
       "0.8676627662766278"
      ]
     },
     "execution_count": 85,
     "metadata": {},
     "output_type": "execute_result"
    }
   ],
   "source": [
    "FG = sum(df_Kobe_regular[\"Minutes Played Rank\"])/len(df_Kobe_regular)\n",
    "FG"
   ]
  },
  {
   "cell_type": "code",
   "execution_count": 74,
   "id": "b4271c72",
   "metadata": {},
   "outputs": [],
   "source": [
    "Kobe_Playoffs = [0.517886788678868,0.6747108579319867,0.49103238147600886,0.4237143714371438,0.5757885788578857,0.4688988898889888]"
   ]
  },
  {
   "cell_type": "code",
   "execution_count": 86,
   "id": "30eb154d",
   "metadata": {},
   "outputs": [],
   "source": [
    "Kobe_regular = [0.5164701470147015,0.647689021232522,0.7598295591216797,0.7983693369336933,0.895491299129913,0.8676627662766278]"
   ]
  },
  {
   "cell_type": "code",
   "execution_count": 92,
   "id": "03e94205",
   "metadata": {},
   "outputs": [],
   "source": [
    "df_kobe = pd.DataFrame(data=[Kobe_regular,Kobe_Playoffs],columns=df_rank.columns)"
   ]
  },
  {
   "cell_type": "code",
   "execution_count": 93,
   "id": "cc4ff805",
   "metadata": {},
   "outputs": [
    {
     "data": {
      "text/html": [
       "<div>\n",
       "<style scoped>\n",
       "    .dataframe tbody tr th:only-of-type {\n",
       "        vertical-align: middle;\n",
       "    }\n",
       "\n",
       "    .dataframe tbody tr th {\n",
       "        vertical-align: top;\n",
       "    }\n",
       "\n",
       "    .dataframe thead th {\n",
       "        text-align: right;\n",
       "    }\n",
       "</style>\n",
       "<table border=\"1\" class=\"dataframe\">\n",
       "  <thead>\n",
       "    <tr style=\"text-align: right;\">\n",
       "      <th></th>\n",
       "      <th>FG % Rank</th>\n",
       "      <th>3-Pt FG % Rank</th>\n",
       "      <th>Minutes Played Rank</th>\n",
       "      <th>Rebounds Rank</th>\n",
       "      <th>Assists Rank</th>\n",
       "      <th>Blocks Rank</th>\n",
       "    </tr>\n",
       "  </thead>\n",
       "  <tbody>\n",
       "    <tr>\n",
       "      <th>0</th>\n",
       "      <td>0.516470</td>\n",
       "      <td>0.647689</td>\n",
       "      <td>0.759830</td>\n",
       "      <td>0.798369</td>\n",
       "      <td>0.895491</td>\n",
       "      <td>0.867663</td>\n",
       "    </tr>\n",
       "    <tr>\n",
       "      <th>1</th>\n",
       "      <td>0.517887</td>\n",
       "      <td>0.674711</td>\n",
       "      <td>0.491032</td>\n",
       "      <td>0.423714</td>\n",
       "      <td>0.575789</td>\n",
       "      <td>0.468899</td>\n",
       "    </tr>\n",
       "  </tbody>\n",
       "</table>\n",
       "</div>"
      ],
      "text/plain": [
       "   FG % Rank  3-Pt FG % Rank  Minutes Played Rank  Rebounds Rank  \\\n",
       "0   0.516470        0.647689             0.759830       0.798369   \n",
       "1   0.517887        0.674711             0.491032       0.423714   \n",
       "\n",
       "   Assists Rank  Blocks Rank  \n",
       "0      0.895491     0.867663  \n",
       "1      0.575789     0.468899  "
      ]
     },
     "execution_count": 93,
     "metadata": {},
     "output_type": "execute_result"
    }
   ],
   "source": [
    "df_kobe"
   ]
  },
  {
   "cell_type": "code",
   "execution_count": 205,
   "id": "db17ff92",
   "metadata": {},
   "outputs": [],
   "source": [
    "#a = df_kobe.loc[0].sort_values()\n",
    "a = df_kobe.loc[0]"
   ]
  },
  {
   "cell_type": "code",
   "execution_count": 206,
   "id": "5b5a8042",
   "metadata": {},
   "outputs": [],
   "source": [
    "b = df_kobe.loc[1]"
   ]
  },
  {
   "cell_type": "code",
   "execution_count": 207,
   "id": "f120acd7",
   "metadata": {},
   "outputs": [],
   "source": [
    "df_updated = pd.DataFrame([a,b])"
   ]
  },
  {
   "cell_type": "code",
   "execution_count": 210,
   "id": "ed5a0bd4",
   "metadata": {},
   "outputs": [
    {
     "data": {
      "text/html": [
       "<div>\n",
       "<style scoped>\n",
       "    .dataframe tbody tr th:only-of-type {\n",
       "        vertical-align: middle;\n",
       "    }\n",
       "\n",
       "    .dataframe tbody tr th {\n",
       "        vertical-align: top;\n",
       "    }\n",
       "\n",
       "    .dataframe thead th {\n",
       "        text-align: right;\n",
       "    }\n",
       "</style>\n",
       "<table border=\"1\" class=\"dataframe\">\n",
       "  <thead>\n",
       "    <tr style=\"text-align: right;\">\n",
       "      <th></th>\n",
       "      <th>FG % Rank</th>\n",
       "      <th>3-Pt FG % Rank</th>\n",
       "      <th>Minutes Played Rank</th>\n",
       "      <th>Rebounds Rank</th>\n",
       "      <th>Assists Rank</th>\n",
       "      <th>Blocks Rank</th>\n",
       "    </tr>\n",
       "  </thead>\n",
       "  <tbody>\n",
       "    <tr>\n",
       "      <th>0</th>\n",
       "      <td>0.516470</td>\n",
       "      <td>0.647689</td>\n",
       "      <td>0.759830</td>\n",
       "      <td>0.798369</td>\n",
       "      <td>0.895491</td>\n",
       "      <td>0.867663</td>\n",
       "    </tr>\n",
       "    <tr>\n",
       "      <th>1</th>\n",
       "      <td>0.517887</td>\n",
       "      <td>0.674711</td>\n",
       "      <td>0.491032</td>\n",
       "      <td>0.423714</td>\n",
       "      <td>0.575789</td>\n",
       "      <td>0.468899</td>\n",
       "    </tr>\n",
       "  </tbody>\n",
       "</table>\n",
       "</div>"
      ],
      "text/plain": [
       "   FG % Rank  3-Pt FG % Rank  Minutes Played Rank  Rebounds Rank  \\\n",
       "0   0.516470        0.647689             0.759830       0.798369   \n",
       "1   0.517887        0.674711             0.491032       0.423714   \n",
       "\n",
       "   Assists Rank  Blocks Rank  \n",
       "0      0.895491     0.867663  \n",
       "1      0.575789     0.468899  "
      ]
     },
     "execution_count": 210,
     "metadata": {},
     "output_type": "execute_result"
    }
   ],
   "source": [
    "df_updated"
   ]
  },
  {
   "cell_type": "code",
   "execution_count": 311,
   "id": "07609f8c",
   "metadata": {},
   "outputs": [
    {
     "data": {
      "image/png": "[encoded data removed]",
      "text/plain": [
       "<Figure size 800x600 with 1 Axes>"
      ]
     },
     "metadata": {},
     "output_type": "display_data"
    }
   ],
   "source": [
    "fig, ax = plt.subplots(figsize=(8, 6))\n",
    "w = 0.35  # Use 33 of per bar and leave 33 for spacing\n",
    "y = np.arange(0, 6)  # The y-coordinates for the bars\n",
    "\n",
    "ax.set_xlim(0,1.3)\n",
    "\n",
    "#setting bars\n",
    "ax.barh(y+w, df_updated.loc[0], height=w, color='#a9b9d1', label=\"Regular Season\")\n",
    "ax.barh(y, df_updated.loc[1], height=w, color='#ced2d9', label=\"Playoffs\")\n",
    "\n",
    "#highlight bars\n",
    "#ax.barh(y[3]+w,0.798369, height=w, color='#fa9405')\n",
    "ax.barh(y[4]+w, 0.895491, height=w, color='#fa9405')\n",
    "ax.barh(y[3], 0.423714, height=w, color='#010940')\n",
    "\n",
    "# Set the y-ticks and labels\n",
    "ax.set_yticks(y + w / 2)\n",
    "ax.set_yticklabels(['FG %','3-Pt FG %','Minutes Played','Rebounds','Assists','Blocks'],fontsize=12)\n",
    "\n",
    "#set labels and hide extra axis \n",
    "ax.set_xlabel(\"Percentile\",fontsize=14,loc=\"left\")\n",
    "#ax.set_title('Kobe Bryant Career Regular Season & Playoff Statistics by Percentiles',fontweight=\"bold\",pad=20,fontsize=14,loc=\"left\")\n",
    "\n",
    "ax.xaxis.labelpad = 15 #make some space between x axis and graph\n",
    "\n",
    "ax.spines['top'].set_visible(False)\n",
    "ax.spines['right'].set_visible(False)\n",
    "ax.spines['bottom'].set_visible(False)\n",
    "\n",
    "plt.axvline(x=0.2, color='#a6a4a1', linestyle='--',linewidth=0.6)\n",
    "plt.axvline(x=0.4, color='#a6a4a1', linestyle='--',linewidth=0.6)\n",
    "plt.axvline(x=0.6, color='#a6a4a1', linestyle='--',linewidth=0.6)\n",
    "plt.axvline(x=0.8, color='#a6a4a1', linestyle='--',linewidth=0.6)\n",
    "plt.axvline(x=1.0, color='#a6a4a1', linestyle='--',linewidth=0.6)\n",
    "\n",
    "bubble_props = dict(boxstyle=\"circle,pad=0.05\", facecolor=\"#f5d97d\", edgecolor=\"none\")\n",
    "ax.text(0.9, 1.4, \"     80th Percentile for \\nOverall Shooting Attempts\",\n",
    "        fontsize=8, fontname='serif', bbox=bubble_props)\n",
    "\n",
    "ax.set_xticks([0.2, 0.4, 0.6, 0.8, 1.0])  # Define the tick positions\n",
    "ax.set_xticklabels(['20th', '40th', '60th', '80th', '100th'], fontsize=12) \n",
    "\n",
    "ax.xaxis.tick_top()\n",
    "ax.xaxis.set_label_position('top')\n",
    "\n",
    "ax.set_facecolor(color='#edfdff')\n",
    "\n",
    "plt.legend(loc=\"lower right\",fontsize=10)  # Use labels from barh() calls\n",
    "\n",
    "plt.show()"
   ]
  },
  {
   "cell_type": "code",
   "execution_count": 182,
   "id": "69ab47f6",
   "metadata": {},
   "outputs": [
    {
     "data": {
      "text/plain": [
       "Int64Index([19444, 20069, 20720, 21372, 22020, 22673, 23317, 23957, 24601,\n",
       "            25283, 25960, 26646, 27346, 28042, 28735, 29512, 30234, 31018,\n",
       "            31762, 32598],\n",
       "           dtype='int64')"
      ]
     },
     "execution_count": 182,
     "metadata": {},
     "output_type": "execute_result"
    }
   ],
   "source": [
    "df_nba.loc[(df_nba[\"Player\"] == 'LeBron James') & (df_nba[\"Season Type\"] == \"Regular Season\")].index"
   ]
  },
  {
   "cell_type": "code",
   "execution_count": 183,
   "id": "ac8c0058",
   "metadata": {},
   "outputs": [
    {
     "data": {
      "text/plain": [
       "Int64Index([21182, 21829, 22476, 23118, 23764, 24410, 25078, 25749, 26441,\n",
       "            27135, 27820, 28520, 29275, 30757, 31556, 33120],\n",
       "           dtype='int64')"
      ]
     },
     "execution_count": 183,
     "metadata": {},
     "output_type": "execute_result"
    }
   ],
   "source": [
    "df_nba.loc[(df_nba[\"Player\"] == 'LeBron James') & (df_nba[\"Season Type\"] == \"Playoffs\")].index"
   ]
  },
  {
   "cell_type": "code",
   "execution_count": 184,
   "id": "234efc59",
   "metadata": {},
   "outputs": [],
   "source": [
    "df_James = df_rank.copy()\n",
    "df_James_regular = df_James.loc[[19444, 20069, 20720, 21372, 22020, 22673, 23317, 23957, 24601,\n",
    "            25283, 25960, 26646, 27346, 28042, 28735, 29512, 30234, 31018,\n",
    "            31762, 32598]]\n",
    "\n",
    "df_James_playoffs = df_James.loc[[21182, 21829, 22476, 23118, 23764, 24410, 25078, 25749, 26441,\n",
    "            27135, 27820, 28520, 29275, 30757, 31556, 33120]]"
   ]
  },
  {
   "cell_type": "code",
   "execution_count": 196,
   "id": "0d3afef2",
   "metadata": {},
   "outputs": [
    {
     "data": {
      "text/plain": [
       "0.5317863036303632"
      ]
     },
     "execution_count": 196,
     "metadata": {},
     "output_type": "execute_result"
    }
   ],
   "source": [
    "BG = sum(df_James_playoffs[\"Minutes Played Rank\"])/len(df_James_playoffs)\n",
    "BG"
   ]
  },
  {
   "cell_type": "code",
   "execution_count": 198,
   "id": "59fcf51a",
   "metadata": {},
   "outputs": [],
   "source": [
    "Lebron_regular = [0.7978547854785479,0.7126673818154916,0.8861929143328411,0.918476597659766,0.9786446144614462,0.9255385538553856]"
   ]
  },
  {
   "cell_type": "code",
   "execution_count": 197,
   "id": "2940165a",
   "metadata": {},
   "outputs": [],
   "source": [
    "Lebron_playoffs = [0.7308571482148214,0.6966285510838204,0.6575064001237071,0.6031137488748877,0.7371118361836183,0.5317863036303632]"
   ]
  },
  {
   "cell_type": "code",
   "execution_count": 202,
   "id": "0a704edf",
   "metadata": {},
   "outputs": [],
   "source": [
    "df_james = pd.DataFrame(data=[Lebron_regular,Lebron_playoffs],columns=df_rank.columns)"
   ]
  },
  {
   "cell_type": "code",
   "execution_count": 216,
   "id": "77b47f6e",
   "metadata": {},
   "outputs": [
    {
     "data": {
      "text/html": [
       "<div>\n",
       "<style scoped>\n",
       "    .dataframe tbody tr th:only-of-type {\n",
       "        vertical-align: middle;\n",
       "    }\n",
       "\n",
       "    .dataframe tbody tr th {\n",
       "        vertical-align: top;\n",
       "    }\n",
       "\n",
       "    .dataframe thead th {\n",
       "        text-align: right;\n",
       "    }\n",
       "</style>\n",
       "<table border=\"1\" class=\"dataframe\">\n",
       "  <thead>\n",
       "    <tr style=\"text-align: right;\">\n",
       "      <th></th>\n",
       "      <th>FG % Rank</th>\n",
       "      <th>3-Pt FG % Rank</th>\n",
       "      <th>Minutes Played Rank</th>\n",
       "      <th>Rebounds Rank</th>\n",
       "      <th>Assists Rank</th>\n",
       "      <th>Blocks Rank</th>\n",
       "    </tr>\n",
       "  </thead>\n",
       "  <tbody>\n",
       "    <tr>\n",
       "      <th>0</th>\n",
       "      <td>0.797855</td>\n",
       "      <td>0.712667</td>\n",
       "      <td>0.886193</td>\n",
       "      <td>0.918477</td>\n",
       "      <td>0.978645</td>\n",
       "      <td>0.925539</td>\n",
       "    </tr>\n",
       "    <tr>\n",
       "      <th>1</th>\n",
       "      <td>0.730857</td>\n",
       "      <td>0.696629</td>\n",
       "      <td>0.657506</td>\n",
       "      <td>0.603114</td>\n",
       "      <td>0.737112</td>\n",
       "      <td>0.531786</td>\n",
       "    </tr>\n",
       "  </tbody>\n",
       "</table>\n",
       "</div>"
      ],
      "text/plain": [
       "   FG % Rank  3-Pt FG % Rank  Minutes Played Rank  Rebounds Rank  \\\n",
       "0   0.797855        0.712667             0.886193       0.918477   \n",
       "1   0.730857        0.696629             0.657506       0.603114   \n",
       "\n",
       "   Assists Rank  Blocks Rank  \n",
       "0      0.978645     0.925539  \n",
       "1      0.737112     0.531786  "
      ]
     },
     "execution_count": 216,
     "metadata": {},
     "output_type": "execute_result"
    }
   ],
   "source": [
    "c = df_james.loc[0]\n",
    "d = df_james.loc[1]\n",
    "df_updated1 = pd.DataFrame([c,d])\n",
    "df_updated1"
   ]
  },
  {
   "cell_type": "code",
   "execution_count": 312,
   "id": "e717b193",
   "metadata": {},
   "outputs": [
    {
     "data": {
      "image/png": "[encoded data removed]",
      "text/plain": [
       "<Figure size 800x600 with 1 Axes>"
      ]
     },
     "metadata": {},
     "output_type": "display_data"
    }
   ],
   "source": [
    "fig, ax = plt.subplots(figsize=(8, 6))\n",
    "w = 0.35  # Use 33 of per bar and leave 33 for spacing\n",
    "y = np.arange(0, 6)  # The y-coordinates for the bars\n",
    "\n",
    "ax.set_xlim(1.3, 0)  # Reverse the x-axis limits\n",
    "\n",
    "# Setting bars\n",
    "ax.barh(y+w, df_updated1.loc[0], height=w, color='#a9b9d1', label=\"Regular Season\")\n",
    "ax.barh(y, df_updated1.loc[1], height=w, color='#ced2d9', label=\"Playoffs\")\n",
    "\n",
    "# Highlight bars\n",
    "ax.barh(y[4]+w, 0.978645, height=w, color='#fa9405')\n",
    "ax.barh(y[5], 0.531786, height=w, color='#010940')\n",
    "\n",
    "# Set the y-ticks and labels on the right y-axis\n",
    "ax.set_yticks(y + w / 2)\n",
    "ax.set_yticklabels(['FG %','3-Pt FG %','Minutes Played','Rebounds','Assists','Blocks'], fontsize=12)\n",
    "\n",
    "# Set labels and hide extra axes\n",
    "ax.set_xlabel(\"Percentile\", fontsize=14, loc=\"right\")  # Align the xlabel to the right\n",
    "#ax.set_title('LeBron James Regular Career Season & Playoff Statistics by Percentiles',\n",
    "             #fontweight=\"bold\", pad=20, fontsize=14, loc=\"right\")  # Align the title to the right\n",
    "\n",
    "ax.xaxis.labelpad = 15  # Make some space between x axis and graph\n",
    "\n",
    "ax.spines['top'].set_visible(False)\n",
    "ax.spines['left'].set_visible(False)  # Hide the right spine instead of the left\n",
    "ax.spines['bottom'].set_visible(False)\n",
    "\n",
    "\n",
    "plt.axvline(x=0.2, color='#a6a4a1', linestyle='--',linewidth=0.6)\n",
    "plt.axvline(x=0.4, color='#a6a4a1', linestyle='--',linewidth=0.6)\n",
    "plt.axvline(x=0.6, color='#a6a4a1', linestyle='--',linewidth=0.6)\n",
    "plt.axvline(x=0.8, color='#a6a4a1', linestyle='--',linewidth=0.6)\n",
    "plt.axvline(x=1.0, color='#a6a4a1', linestyle='--',linewidth=0.6)\n",
    "\n",
    "#drawing bubble\n",
    "bubble_props = dict(boxstyle=\"circle,pad=0.05\", facecolor=\"#f5d97d\", edgecolor=\"none\")\n",
    "ax.text(1.28, 1.4, \"     85th Percentile for \\nOverall Shooting Attempts\",\n",
    "        fontsize=8, fontname='serif', bbox=bubble_props)\n",
    "\n",
    "ax.set_xticks([1.0, 0.8, 0.6, 0.4, 0.2])  # Define the tick positions in reverse order\n",
    "ax.set_xticklabels(['100th', '80th', '60th', '40th', '20th'], fontsize=12)\n",
    "ax.xaxis.tick_top()\n",
    "ax.xaxis.set_label_position('top')\n",
    "\n",
    "ax.set_facecolor(color='#edfdff')\n",
    "\n",
    "# Move y-axis labels and ticks to the right side\n",
    "ax.yaxis.tick_right()\n",
    "ax.yaxis.set_label_position('right')\n",
    "\n",
    "plt.legend(loc=\"lower left\", fontsize=10)  # Use labels from barh() calls\n",
    "\n",
    "plt.show()\n"
   ]
  },
  {
   "cell_type": "code",
   "execution_count": 292,
   "id": "3ea55199",
   "metadata": {},
   "outputs": [
    {
     "data": {
      "text/plain": [
       "0.769119197634049"
      ]
     },
     "execution_count": 292,
     "metadata": {},
     "output_type": "execute_result"
    }
   ],
   "source": [
    "df_nba.rank(pct=True).loc[df_nba[\"Player\"] == \"Kobe Bryant\"][\"FG Attempts\"].mean()"
   ]
  },
  {
   "cell_type": "code",
   "execution_count": 248,
   "id": "c99e7414",
   "metadata": {},
   "outputs": [
    {
     "data": {
      "text/plain": [
       "Index(['Rank', 'Year', 'Season Start Year', 'Season Type', 'Player ID',\n",
       "       'Player', 'Team ID', 'Team', 'Games Played', 'Minutes Played',\n",
       "       'FG Made', 'FG Attempts', 'FG %', '3-Pt FG Made', '3-Pt FG Attempts',\n",
       "       '3-Pt FG %', 'FT Made', 'FT Attempts', 'FT %', 'Offensive Rebounds',\n",
       "       'Defensive Rebounds', 'Rebounds', 'Assists', 'Steals', 'Blocks',\n",
       "       'Turnovers', 'Personal Fouls', 'Points Scored', 'Efficiency', 'AST/TOV',\n",
       "       'STL/TOV'],\n",
       "      dtype='object')"
      ]
     },
     "execution_count": 248,
     "metadata": {},
     "output_type": "execute_result"
    }
   ],
   "source": [
    "df_nba.columns"
   ]
  },
  {
   "cell_type": "code",
   "execution_count": 293,
   "id": "c70bdb09",
   "metadata": {},
   "outputs": [
    {
     "data": {
      "text/plain": [
       "0.7928652773805265"
      ]
     },
     "execution_count": 293,
     "metadata": {},
     "output_type": "execute_result"
    }
   ],
   "source": [
    "(0.8166113571270041 + 0.769119197634049) / 2"
   ]
  },
  {
   "cell_type": "code",
   "execution_count": null,
   "id": "124d490f",
   "metadata": {},
   "outputs": [],
   "source": []
  }
 ],
 "metadata": {
  "kernelspec": {
   "display_name": "Python 3 (ipykernel)",
   "language": "python",
   "name": "python3"
  },
  "language_info": {
   "codemirror_mode": {
    "name": "ipython",
    "version": 3
   },
   "file_extension": ".py",
   "mimetype": "text/x-python",
   "name": "python",
   "nbconvert_exporter": "python",
   "pygments_lexer": "ipython3",
   "version": "3.11.3"
  }
 },
 "nbformat": 4,
 "nbformat_minor": 5
}
